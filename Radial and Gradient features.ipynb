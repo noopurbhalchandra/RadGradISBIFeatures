{
 "cells": [
  {
   "cell_type": "code",
   "execution_count": 93,
   "metadata": {},
   "outputs": [],
   "source": [
    "import numpy as np\n",
    "import pandas as pd\n",
    "import cv2\n",
    "import os\n",
    "import math\n",
    "import matplotlib.pyplot as plt\n",
    "\n",
    "from skimage.measure import label, regionprops"
   ]
  },
  {
   "cell_type": "code",
   "execution_count": 34,
   "metadata": {},
   "outputs": [],
   "source": [
    "## Paths to access Control (c) and PD (pd) segmented images\n",
    "path = '/Users/HOMEDRIVE/data'\n",
    "c_path = 'c images'\n",
    "pd_path = 'pd images'"
   ]
  },
  {
   "cell_type": "code",
   "execution_count": 35,
   "metadata": {},
   "outputs": [],
   "source": [
    "## Files listed\n",
    "c_files = os.listdir(os.path.join(path, c_path))\n",
    "pd_files = os.listdir(os.path.join(path, pd_path))"
   ]
  },
  {
   "cell_type": "code",
   "execution_count": 231,
   "metadata": {},
   "outputs": [
    {
     "data": {
      "text/plain": [
       "<matplotlib.image.AxesImage at 0x1c2789f4e0>"
      ]
     },
     "execution_count": 231,
     "metadata": {},
     "output_type": "execute_result"
    },
    {
     "data": {
      "image/png": "[encoded data removed]",
      "text/plain": [
       "<Figure size 432x288 with 1 Axes>"
      ]
     },
     "metadata": {},
     "output_type": "display_data"
    }
   ],
   "source": [
    "img = cv2.imread(os.path.join(path, c_path, c_files[1]), 0)\n",
    "plt.imshow(img)"
   ]
  },
  {
   "cell_type": "code",
   "execution_count": 171,
   "metadata": {},
   "outputs": [],
   "source": [
    "## Computes tan inverse between 0 to 2pi\n",
    "def atan0to2pi (xx, yy):\n",
    "    z = yy/xx\n",
    "    if (xx >= 0) and (yy >= 0):\n",
    "        theta = math.atan(z)\n",
    "    elif (xx < 0):\n",
    "        theta = math.atan(z) + math.pi\n",
    "    elif (xx >= 0) and (yy < 0):\n",
    "        theta = math.atan(z) + (2 * math.pi)\n",
    "    return theta"
   ]
  },
  {
   "cell_type": "code",
   "execution_count": 242,
   "metadata": {},
   "outputs": [],
   "source": [
    "## Computes 8 sampled points such that striatum boundary is approximately divided into 8 segments \n",
    "def ComputeSuper8 (boundPel, theta):\n",
    "    sampled_8pts = np.zeros((8,2))\n",
    "    angles = [0, 45, 90, 135, 180, 255, 270, 315]\n",
    "    \n",
    "    for i in range(len(angles)):\n",
    "        ## finds the point closest to required angle \n",
    "        theta_ang_diff = [th - ((angles[i]*math.pi)/180) for th in theta]\n",
    "        diff_ang = [abs(e_val) for e_val in theta_ang_diff]\n",
    "        idx = diff_ang.index(min(diff_ang))\n",
    "        if (i > 0):\n",
    "            if (sampled_8pts[i-1].all() == sampled_8pts[i].all()):\n",
    "                sorted_diffang = sorted(diff_ang)\n",
    "                idx = diff_ang.index(sorted_diffang[1])  \n",
    "        sampled_8pts[i][0] = boundPel[idx][0]\n",
    "        sampled_8pts[i][1] = boundPel[idx][1] \n",
    "    \n",
    "    return sampled_8pts"
   ]
  },
  {
   "cell_type": "code",
   "execution_count": 236,
   "metadata": {},
   "outputs": [],
   "source": [
    "## Gives 8 sampled points on each left and right striatum\n",
    "def LR_landmarks (center_L, center_R, boundPel_L, boundPel_R):\n",
    "    theta_L = []\n",
    "    for i in range(len(boundPel_L)):\n",
    "        centroid_x = center_L[0]\n",
    "        centroid_y = center_L[1]\n",
    "        borderPel_x = boundPel_L[i][0]\n",
    "        borderPel_y = boundPel_L[i][1]\n",
    "        xx = borderPel_x - centroid_x\n",
    "        yy = borderPel_y - centroid_y\n",
    "        theta = atan0to2pi(xx, yy)\n",
    "        theta_L.append(theta)\n",
    "\n",
    "    \n",
    "    theta_R = []\n",
    "    for i in range(len(boundPel_R)):\n",
    "        centroid_x = center_R[0]\n",
    "        centroid_y = center_R[1]\n",
    "        borderPel_x = boundPel_R[i][0]\n",
    "        borderPel_y = boundPel_R[i][1]\n",
    "        xx = borderPel_x - centroid_x\n",
    "        yy = borderPel_y - centroid_y\n",
    "        theta = atan0to2pi(xx, yy)\n",
    "        theta_R.append(theta)\n",
    "    \n",
    "    sampled_8pts_L = ComputeSuper8(boundPel_L, theta_L)\n",
    "    sampled_8pts_R = ComputeSuper8(boundPel_R, theta_R)\n",
    "    \n",
    "    return sampled_8pts_L, sampled_8pts_R\n",
    "    "
   ]
  },
  {
   "cell_type": "code",
   "execution_count": 243,
   "metadata": {},
   "outputs": [],
   "source": [
    "## Computes radial (rad) features\n",
    "def RadFeat (center, sampled_pts):\n",
    "    centroid_x = center[0]\n",
    "    centroid_y = center[1]\n",
    "    rad_dist = []\n",
    "    for i in sampled_pts:\n",
    "        borderPel_x = i[0]\n",
    "        borderPel_y = i[1]\n",
    "        dist = math.sqrt(((borderPel_x - centroid_x)**2) + ((borderPel_y - centroid_y)**2))\n",
    "        rad_dist.append(dist)\n",
    "    return rad_dist"
   ]
  },
  {
   "cell_type": "code",
   "execution_count": 244,
   "metadata": {},
   "outputs": [],
   "source": [
    "## Computes gradient (grad) features\n",
    "def GradFeat (sampled_pts):\n",
    "    sampled_pts = list(sampled_pts)\n",
    "    sampled_pts.append(sampled_pts[0])\n",
    "    grad_val = []\n",
    "    for i in range(len(sampled_pts)-1):\n",
    "        borderPel_x1 = sampled_pts[i][0]\n",
    "        borderPel_y1 = sampled_pts[i][1]\n",
    "        borderPel_x2 = sampled_pts[i+1][0]\n",
    "        borderPel_y2 = sampled_pts[i+1][1]\n",
    "        xx = borderPel_x2 - borderPel_x1\n",
    "        yy = borderPel_y2 - borderPel_y1\n",
    "        grad = atan0to2pi (xx, yy)\n",
    "        grad_val.append(grad)\n",
    "    return grad_val"
   ]
  },
  {
   "cell_type": "code",
   "execution_count": 245,
   "metadata": {},
   "outputs": [
    {
     "name": "stderr",
     "output_type": "stream",
     "text": [
      "/Users/noopurbhalchandra/anaconda3/lib/python3.6/site-packages/ipykernel_launcher.py:2: RuntimeWarning: divide by zero encountered in double_scalars\n",
      "  \n",
      "/Users/noopurbhalchandra/anaconda3/lib/python3.6/site-packages/ipykernel_launcher.py:2: RuntimeWarning: invalid value encountered in double_scalars\n",
      "  \n"
     ]
    }
   ],
   "source": [
    "\n",
    "c_imgs = []\n",
    "c_rad_feat_L = []\n",
    "c_rad_feat_R = []\n",
    "c_grad_feat_L = []\n",
    "c_grad_feat_R = []\n",
    "for i in c_files:\n",
    "    if ('.png' in i)==True:\n",
    "        img = cv2.imread(os.path.join(path, c_path, i), 0)\n",
    "        img = img/255\n",
    "        img1 = label(img) #labels each region in the image \n",
    "        props = regionprops(img1) #gives region properties for labeled image\n",
    "        \n",
    "        center_L = props[0].centroid\n",
    "        center_R = props[1].centroid\n",
    "        \n",
    "        boundPel_L = props[0].coords\n",
    "        boundPel_R = props[1].coords\n",
    "        \n",
    "        sampled_8pts_L, sampled_8pts_R = LR_landmarks (center_L, center_R, boundPel_L, boundPel_R)\n",
    "        \n",
    "        rad_feats_L = RadFeat(center_L, sampled_8pts_L)\n",
    "        rad_feats_R = RadFeat(center_R, sampled_8pts_R)\n",
    "        \n",
    "        grad_feats_L = GradFeat(sampled_8pts_L)\n",
    "        grad_feats_R = GradFeat(sampled_8pts_R)\n",
    "        \n",
    "        c_imgs.append(img)\n",
    "        c_rad_feat_L.append(rad_feats_L)\n",
    "        c_rad_feat_R.append(rad_feats_R)\n",
    "        c_grad_feat_L.append(grad_feats_L)\n",
    "        c_grad_feat_R.append(grad_feats_R)\n",
    "        \n",
    "c_imgs = np.array(c_imgs)\n",
    "\n",
    "\n",
    "pd_imgs = []\n",
    "pd_rad_feat_L = []\n",
    "pd_rad_feat_R = []\n",
    "pd_grad_feat_L = []\n",
    "pd_grad_feat_R = []\n",
    "for i in pd_files:\n",
    "    if ('.png' in i)==True:\n",
    "        img = cv2.imread(os.path.join(path, pd_path, i), 0)\n",
    "        img = img/255\n",
    "        img1 = label(img) #labels each region in the image\n",
    "        props = regionprops(img1) #gives region properties for labeled image\n",
    "        \n",
    "        center_L = props[0].centroid\n",
    "        center_R = props[1].centroid\n",
    "        \n",
    "        boundPel_L = props[0].coords\n",
    "        boundPel_R = props[1].coords\n",
    "        \n",
    "        sampled_8pts_L, sampled_8pts_R = LR_landmarks (center_L, center_R, boundPel_L, boundPel_R)\n",
    "        \n",
    "        rad_feats_L = RadFeat(center_L, sampled_8pts_L)\n",
    "        rad_feats_R = RadFeat(center_R, sampled_8pts_R)\n",
    "        \n",
    "        grad_feats_L = GradFeat(sampled_8pts_L)\n",
    "        grad_feats_R = GradFeat(sampled_8pts_R)\n",
    "        \n",
    "        pd_imgs.append(img)\n",
    "        pd_rad_feat_L.append(rad_feats_L)\n",
    "        pd_rad_feat_R.append(rad_feats_R)\n",
    "        pd_grad_feat_L.append(grad_feats_L)\n",
    "        pd_grad_feat_R.append(grad_feats_R)\n",
    "        \n",
    "pd_imgs = np.array(pd_imgs)\n"
   ]
  },
  {
   "cell_type": "code",
   "execution_count": 257,
   "metadata": {},
   "outputs": [
    {
     "data": {
      "text/plain": [
       "{'whiskers': [<matplotlib.lines.Line2D at 0x1c27dc7198>,\n",
       "  <matplotlib.lines.Line2D at 0x1c27dc7630>,\n",
       "  <matplotlib.lines.Line2D at 0x1c27db4f60>,\n",
       "  <matplotlib.lines.Line2D at 0x1c27dae470>],\n",
       " 'caps': [<matplotlib.lines.Line2D at 0x1c27dc7a58>,\n",
       "  <matplotlib.lines.Line2D at 0x1c27dc7e80>,\n",
       "  <matplotlib.lines.Line2D at 0x1c27dae128>,\n",
       "  <matplotlib.lines.Line2D at 0x1c27dae5f8>],\n",
       " 'boxes': [<matplotlib.lines.Line2D at 0x1c27dc7048>,\n",
       "  <matplotlib.lines.Line2D at 0x1c27db4b00>],\n",
       " 'medians': [<matplotlib.lines.Line2D at 0x1c27db42e8>,\n",
       "  <matplotlib.lines.Line2D at 0x1c27da6160>],\n",
       " 'fliers': [<matplotlib.lines.Line2D at 0x1c27db4710>,\n",
       "  <matplotlib.lines.Line2D at 0x1c27da6ef0>],\n",
       " 'means': []}"
      ]
     },
     "execution_count": 257,
     "metadata": {},
     "output_type": "execute_result"
    },
    {
     "data": {
      "image/png": "[encoded data removed]",
      "text/plain": [
       "<Figure size 432x288 with 1 Axes>"
      ]
     },
     "metadata": {},
     "output_type": "display_data"
    },
    {
     "data": {
      "image/png": "[encoded data removed]",
      "text/plain": [
       "<Figure size 432x288 with 1 Axes>"
      ]
     },
     "metadata": {},
     "output_type": "display_data"
    }
   ],
   "source": [
    "fig1, ax1 = plt.subplots()\n",
    "rad_L = [c_rad_feat_L[:], pd_rad_feat_L[:]]\n",
    "ax1.set_title('Control and PD radial features for left striatum')\n",
    "ax1.boxplot(rad_L)\n",
    "\n",
    "fig2, ax2 = plt.subplots()\n",
    "rad_R = [c_rad_feat_R[:], pd_rad_feat_R[:]]\n",
    "ax2.set_title('Control and PD radial features for right striatum')\n",
    "ax2.boxplot(rad_R)"
   ]
  }
 ],
 "metadata": {
  "kernelspec": {
   "display_name": "Python 3",
   "language": "python",
   "name": "python3"
  },
  "language_info": {
   "codemirror_mode": {
    "name": "ipython",
    "version": 3
   },
   "file_extension": ".py",
   "mimetype": "text/x-python",
   "name": "python",
   "nbconvert_exporter": "python",
   "pygments_lexer": "ipython3",
   "version": "3.6.5"
  }
 },
 "nbformat": 4,
 "nbformat_minor": 2
}
